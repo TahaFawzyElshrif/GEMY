{
 "cells": [
  {
   "cell_type": "code",
   "execution_count": 5,
   "metadata": {},
   "outputs": [],
   "source": [
    "def useGeminiAPI(message,api_key):\n",
    "\n",
    "    import os\n",
    "\n",
    "    import google.generativeai as genai\n",
    "\n",
    "    genai.configure(api_key=api_key)\n",
    "\n",
    "    generation_config = {\n",
    "    \"temperature\": 1,\n",
    "    \"top_p\": 0.95,\n",
    "    \"top_k\": 64,\n",
    "    \"max_output_tokens\": 8192,\n",
    "    \"response_mime_type\": \"text/plain\",\n",
    "    }\n",
    "\n",
    "    model = genai.GenerativeModel(\n",
    "    model_name=\"gemini-1.5-flash\",\n",
    "    generation_config=generation_config,\n",
    "\n",
    "    )\n",
    "\n",
    "    chat_session = model.start_chat(  history=[ ])\n",
    "\n",
    "    response = chat_session.send_message(message)\n",
    "\n",
    "    return str(response.text)\n",
    "#useGeminiAPI(\"hello\",apikey)"
   ]
  },
  {
   "cell_type": "code",
   "execution_count": 11,
   "metadata": {},
   "outputs": [
    {
     "data": {
      "text/plain": [
       "'## What is Cloud Computing?\\n\\n**Cloud computing** is a model of delivering computing services—including servers, storage, databases, networking, software, analytics, and intelligence—over the Internet (“the cloud”) to offer faster innovation, flexible resources, and economies of scale. You can access these services on demand, like electricity from a power grid.\\n\\n**Here\\'s a breakdown:**\\n\\n**Imagine a giant data center:**\\n\\n* This data center houses all the hardware and software needed for various tasks.\\n* Instead of building and maintaining your own data center, you \"rent\" these resources from the cloud provider.\\n\\n**How it works:**\\n\\n* **You request resources:**  You access these resources through the internet, using a web browser, mobile app, or API.\\n* **Cloud provider delivers:**  The cloud provider handles the infrastructure, maintenance, and security. \\n* **You pay for what you use:** You only pay for the resources you consume, making it a cost-effective option.\\n\\n**Benefits of Cloud Computing:**\\n\\n* **Scalability:** Easily scale up or down resources as needed, accommodating fluctuating demands.\\n* **Cost-effectiveness:** Pay only for the resources you use, reducing upfront investments and operational costs.\\n* **Accessibility:** Access resources from anywhere with an internet connection.\\n* **Reliability:**  High availability and disaster recovery features ensure continuity of service.\\n* **Security:**  Cloud providers offer advanced security measures and compliance certifications.\\n* **Innovation:**  Focus on your core business while leveraging cutting-edge technologies and services.\\n\\n**Types of Cloud Services:**\\n\\n* **Infrastructure as a Service (IaaS):** Provides access to basic computing resources, like servers, storage, and networking. (e.g., Amazon EC2, Google Compute Engine)\\n* **Platform as a Service (PaaS):** Offers a platform for developing and deploying applications, including tools, frameworks, and databases. (e.g., Heroku, Google App Engine)\\n* **Software as a Service (SaaS):** Delivers software applications over the internet, accessible through a web browser or mobile app. (e.g., Microsoft Office 365, Salesforce)\\n\\n**Examples of Cloud Providers:**\\n\\n* **Amazon Web Services (AWS)**\\n* **Microsoft Azure**\\n* **Google Cloud Platform (GCP)**\\n* **IBM Cloud**\\n* **Alibaba Cloud**\\n\\n**In essence, cloud computing empowers businesses and individuals to access powerful computing resources without the complexities and costs of managing their own infrastructure.** It\\'s a transformative technology that has revolutionized how we work, learn, and innovate in the digital age.\\n'"
      ]
     },
     "execution_count": 11,
     "metadata": {},
     "output_type": "execute_result"
    }
   ],
   "source": [
    "useGeminiAPI(\"what is cloud computing\",apikey)"
   ]
  },
  {
   "cell_type": "code",
   "execution_count": 3,
   "metadata": {},
   "outputs": [],
   "source": [
    "\n",
    "def say2(text,lang):\n",
    "    from gtts import gTTS\n",
    "    from scipy.io import wavfile\n",
    "    from pydub import AudioSegment\n",
    "    import numpy as np\n",
    "    import io\n",
    "    AudioSegment.converter = r\"C:\\\\Program Files\\\\ffmpeg-master-latest-win64-gpl\\\\bin\\\\ffmpeg.exe\"\n",
    "    tts = gTTS(text, lang=lang)\n",
    "\n",
    "    tts.save(\"record_i.mp3\")\n",
    "    audio = AudioSegment.from_mp3(\"record_i.mp3\")\n",
    "    audio.export(\"record_i.wav\", format=\"wav\")\n",
    "    sampling_rate, data = wavfile.read(\"record_i.wav\")\n",
    "\n",
    "    data_mono_normalized = (data - np.min(data)) / (np.max(data) - np.min(data))\n",
    "    data_scaled = (data_mono_normalized * 255).astype(np.uint8)\n",
    "    np.set_printoptions(threshold=np.inf)\n",
    "\n",
    "    \n",
    "\n",
    "    return sampling_rate, data_scaled\n",
    "\n",
    "#say2(\" السلام عليكم وعليكم السلام\",\"ar\")\n"
   ]
  },
  {
   "cell_type": "code",
   "execution_count": null,
   "metadata": {},
   "outputs": [],
   "source": [
    "from scipy.io import wavfile\n",
    "import numpy as np\n",
    "s3a=say2(\" السلام عليكم وعليكم السلام\",\"ar\")[1]\n",
    "s3 = \"s3.wav\"\n",
    "wavfile.write(s3, 24000, np.array(s3a).astype(np.int8))"
   ]
  },
  {
   "cell_type": "code",
   "execution_count": null,
   "metadata": {},
   "outputs": [],
   "source": [
    "#net start mosquitto if local host\n",
    "#linux : mosquitto_pub -h test.mosquitto.org -t gemy/user/messages -m  \"taha\"  &  mosquitto_sub -h test.mosquitto.org -t gemy/user/responses -v -C 15\n",
    "\n",
    "\n",
    "import paho.mqtt.client as mqtt\n",
    "import time\n",
    "import warnings\n",
    "warnings.filterwarnings(\"ignore\", category=RuntimeWarning)\n",
    "\n",
    "\n",
    "BROKER = \"test.mosquitto.org\" ##TCP\n",
    "PORT = 1883\n",
    "messages = \"gemy/user/messages\"\n",
    "responses = \"gemy/user/responses\"\n",
    "apikey=\"\"\n",
    "\n",
    "# Callback when the client connects to the broker\n",
    "def on_connect(client, userdata, flags, rc):\n",
    "    print(f\"Connected with result code {rc}\")\n",
    "    client.subscribe(messages)\n",
    "\n",
    "# Callback when a message is received from the broker\n",
    "def on_message(client, userdata, msg):\n",
    "        chunk_loop=1000#7000\n",
    "        message=msg.payload.decode()\n",
    "        print(\"Message sent : \"+message)\n",
    "        ''''\n",
    "        answer= \"hello world ,taha\" #useGeminiAPI(message,apikey)\n",
    "        sound_SR=say2(answer,'en')\n",
    "        Sr=sound_SR[0]\n",
    "        sound=sound_SR[1]\n",
    "        client.publish(responses,str(Sr))\n",
    "        for i in range(0,len(sound),chunk_loop):\n",
    "            client.publish(responses,' '.join(map(str,sound[i:i + chunk_loop])))\n",
    "            time.sleep((1/Sr)*chunk_loop)\n",
    "        client.publish(responses,str(\"finished\"))\n",
    "        '''\n",
    "        if ( message==\"stop\"):\n",
    "             pass # for microphone to stop fetching sound array\n",
    "        else:\n",
    "            answer=useGeminiAPI(message,apikey)\n",
    "            for i in range(0,len(answer),32):\n",
    "                client.publish(responses,answer[i:i+32])\n",
    "                print(answer[i:i+32])\n",
    "            client.publish(responses,str(\"finished\"))\n",
    "\n",
    "\n",
    "client = mqtt.Client()\n",
    "client.on_connect = on_connect\n",
    "client.on_message = on_message\n",
    "\n",
    "client.connect(BROKER, PORT, 60)\n",
    "client.loop_forever()\n"
   ]
  },
  {
   "cell_type": "code",
   "execution_count": null,
   "metadata": {},
   "outputs": [],
   "source": []
  },
  {
   "cell_type": "code",
   "execution_count": 16,
   "metadata": {},
   "outputs": [],
   "source": [
    "def decimal_to_hex(decimal_value):\n",
    "  hex_digits = \"0123456789ABCDEF\"\n",
    "  hex_string = \"\"\n",
    "  \n",
    "  while decimal_value > 0:\n",
    "    remainder = decimal_value % 16\n",
    "    hex_string = hex_digits[remainder] + hex_string\n",
    "    decimal_value //= 16\n",
    "    \n",
    "  \n",
    "  return hex_string"
   ]
  },
  {
   "cell_type": "code",
   "execution_count": 17,
   "metadata": {},
   "outputs": [
    {
     "data": {
      "text/plain": [
       "'1'"
      ]
     },
     "execution_count": 17,
     "metadata": {},
     "output_type": "execute_result"
    }
   ],
   "source": [
    "decimal_to_hex(1)"
   ]
  }
 ],
 "metadata": {
  "kernelspec": {
   "display_name": "Python 3",
   "language": "python",
   "name": "python3"
  },
  "language_info": {
   "codemirror_mode": {
    "name": "ipython",
    "version": 3
   },
   "file_extension": ".py",
   "mimetype": "text/x-python",
   "name": "python",
   "nbconvert_exporter": "python",
   "pygments_lexer": "ipython3",
   "version": "3.11.4"
  }
 },
 "nbformat": 4,
 "nbformat_minor": 2
}
